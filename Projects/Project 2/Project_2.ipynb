{
  "cells": [
    {
      "cell_type": "code",
      "execution_count": null,
      "id": "17c619cb",
      "metadata": {
        "colab": {
          "base_uri": "https://localhost:8080/",
          "height": 17
        },
        "id": "17c619cb",
        "outputId": "1b6aa2eb-ca45-4155-f58c-8f8d45824e5f"
      },
      "outputs": [
        {
          "output_type": "display_data",
          "data": {
            "text/plain": [
              "<IPython.core.display.HTML object>"
            ],
            "text/html": [
              "<style>.container { width:100% !important; }</style>"
            ]
          },
          "metadata": {}
        }
      ],
      "source": [
        "from IPython.core.display import display, HTML\n",
        "display(HTML(\"<style>.container { width:100% !important; }</style>\"))"
      ]
    },
    {
      "cell_type": "markdown",
      "id": "oXfPbIcTmiho",
      "metadata": {
        "id": "oXfPbIcTmiho"
      },
      "source": [
        "## Project 2. Due by Saturday, February 17. ##\n",
        "\n",
        "For this project we will use the **NYISO Data**.\n",
        "\n",
        "Throughout, we will compute the length of a link as computed using the latitude and longitude of each node (termed 'bus' in the data set).\n",
        "\n",
        "1. Repeat one million times: take a randomly chosen pair of nodes A and B, and compute the length of a shortest path between them. You can use any library for this purpose. Plot a histogram showing the distribution of lengths.\n",
        "\n",
        "2. Implement the algorithm for the minimum-cost node tour problem (i.e., the node inspection problem) on this data.  You only need to examine **one** pairing of the odd nodes. You only need to report on the **cost** of your tour.\n",
        "\n",
        "3. Now repeat step 2, examining *random* pairings of the odd nodes.  Perform this step for at least 1000 pairings.  The TA/CA may ask to perform more.  Report on the best solution you find.\n",
        "\n",
        "4. Extra credit (**only do this if 1-3 are 100% completed**).  Use the 'splicing' algorithm to actually compute the tour itself, for the best solution obtained in Step 3.\n"
      ]
    },
    {
      "cell_type": "markdown",
      "source": [
        "## Import Packages"
      ],
      "metadata": {
        "id": "DWXVLPA6z4hL"
      },
      "id": "DWXVLPA6z4hL"
    },
    {
      "cell_type": "code",
      "source": [
        "from google.colab import drive\n",
        "drive.mount('/content/drive')"
      ],
      "metadata": {
        "colab": {
          "base_uri": "https://localhost:8080/",
          "height": 0
        },
        "id": "5P0qnKm38Y72",
        "outputId": "ffa1a907-6b8b-42c6-ef60-8aa703f97991"
      },
      "id": "5P0qnKm38Y72",
      "execution_count": 27,
      "outputs": [
        {
          "output_type": "stream",
          "name": "stdout",
          "text": [
            "Drive already mounted at /content/drive; to attempt to forcibly remount, call drive.mount(\"/content/drive\", force_remount=True).\n"
          ]
        }
      ]
    },
    {
      "cell_type": "code",
      "execution_count": 28,
      "id": "d9357d8d",
      "metadata": {
        "id": "d9357d8d"
      },
      "outputs": [],
      "source": [
        "import numpy as np\n",
        "import pandas as pd\n",
        "import time\n",
        "from tqdm import tqdm\n",
        "import random\n",
        "import networkx as nx\n",
        "from geopy.distance import great_circle, geodesic\n",
        "import matplotlib.pyplot as plt\n",
        "\n",
        "random.seed(0)\n",
        "np.random.seed(0)"
      ]
    },
    {
      "cell_type": "markdown",
      "source": [
        "## Data Cleaning"
      ],
      "metadata": {
        "id": "TbBtaQCMuGtG"
      },
      "id": "TbBtaQCMuGtG"
    },
    {
      "cell_type": "code",
      "execution_count": 29,
      "id": "pVHotFMxD_7z",
      "metadata": {
        "id": "pVHotFMxD_7z"
      },
      "outputs": [],
      "source": [
        "data_dir = '/content/drive/My Drive/Spring_2024/IEOR4004/Data/NewYorkElectricGrid/'\n",
        "buses = pd.read_csv(data_dir+'nyisobuses.csv', skiprows=1, index_col=[0])\n",
        "branches = pd.read_csv(data_dir+'nyisobranches.csv')"
      ]
    },
    {
      "cell_type": "code",
      "source": [
        "buses.head()"
      ],
      "metadata": {
        "colab": {
          "base_uri": "https://localhost:8080/",
          "height": 356
        },
        "id": "Y-UT3GR33o6R",
        "outputId": "921bb6b2-9c4d-48c8-f02e-93fa35eb035f"
      },
      "id": "Y-UT3GR33o6R",
      "execution_count": 30,
      "outputs": [
        {
          "output_type": "execute_result",
          "data": {
            "text/plain": [
              "              Name    Area Name  Latitude  Longitude     Status  \\\n",
              "Number                                                            \n",
              "123     J C McNeil      Vermont    44.492    -73.208  Connected   \n",
              "187     9001043100  Connecticut    41.110    -73.457  Connected   \n",
              "239     9001071000  Connecticut    41.172    -73.218  Connected   \n",
              "338     9001245500  Connecticut    41.275    -73.516  Connected   \n",
              "845     9011690300  Connecticut    41.293    -72.925  Connected   \n",
              "\n",
              "        # Neighbors (in service only)  Nom kV  PU Volt  Volt (kV)  \\\n",
              "Number                                                              \n",
              "123                                 1   138.0  0.99773    137.686   \n",
              "187                                 1   138.0  0.99500    137.310   \n",
              "239                                 1   230.0  1.00859    231.975   \n",
              "338                                 1   138.0  0.95884    132.319   \n",
              "845                                 1   138.0  0.98595    136.062   \n",
              "\n",
              "        Angle (Deg)  ...  Gen Min MW  Gen Max MW  Gen Min Mvar  Gen Max Mvar  \\\n",
              "Number               ...                                                       \n",
              "123          -46.52  ...         NaN         NaN           NaN           NaN   \n",
              "187         -124.63  ...         NaN         NaN           NaN           NaN   \n",
              "239         -115.05  ...         NaN         NaN           NaN           NaN   \n",
              "338         -122.26  ...         NaN         NaN           NaN           NaN   \n",
              "845         -118.53  ...         NaN         NaN           NaN           NaN   \n",
              "\n",
              "        Switched Shunts Mvar  Switched Shunts Nom Mvar  Max Mvar  Min Mvar  \\\n",
              "Number                                                                       \n",
              "123                      NaN                       NaN       NaN       NaN   \n",
              "187                      NaN                       NaN       NaN       NaN   \n",
              "239                      NaN                       NaN       NaN       NaN   \n",
              "338                      NaN                       NaN       NaN       NaN   \n",
              "845                      NaN                       NaN       NaN       NaN   \n",
              "\n",
              "        Area Num  Zone Num  \n",
              "Number                      \n",
              "123           35         1  \n",
              "187            3         1  \n",
              "239            3         1  \n",
              "338            3         1  \n",
              "845            3         1  \n",
              "\n",
              "[5 rows x 25 columns]"
            ],
            "text/html": [
              "\n",
              "  <div id=\"df-39d30afd-0902-4eb0-9c8e-1b323a0ce8da\" class=\"colab-df-container\">\n",
              "    <div>\n",
              "<style scoped>\n",
              "    .dataframe tbody tr th:only-of-type {\n",
              "        vertical-align: middle;\n",
              "    }\n",
              "\n",
              "    .dataframe tbody tr th {\n",
              "        vertical-align: top;\n",
              "    }\n",
              "\n",
              "    .dataframe thead th {\n",
              "        text-align: right;\n",
              "    }\n",
              "</style>\n",
              "<table border=\"1\" class=\"dataframe\">\n",
              "  <thead>\n",
              "    <tr style=\"text-align: right;\">\n",
              "      <th></th>\n",
              "      <th>Name</th>\n",
              "      <th>Area Name</th>\n",
              "      <th>Latitude</th>\n",
              "      <th>Longitude</th>\n",
              "      <th>Status</th>\n",
              "      <th># Neighbors (in service only)</th>\n",
              "      <th>Nom kV</th>\n",
              "      <th>PU Volt</th>\n",
              "      <th>Volt (kV)</th>\n",
              "      <th>Angle (Deg)</th>\n",
              "      <th>...</th>\n",
              "      <th>Gen Min MW</th>\n",
              "      <th>Gen Max MW</th>\n",
              "      <th>Gen Min Mvar</th>\n",
              "      <th>Gen Max Mvar</th>\n",
              "      <th>Switched Shunts Mvar</th>\n",
              "      <th>Switched Shunts Nom Mvar</th>\n",
              "      <th>Max Mvar</th>\n",
              "      <th>Min Mvar</th>\n",
              "      <th>Area Num</th>\n",
              "      <th>Zone Num</th>\n",
              "    </tr>\n",
              "    <tr>\n",
              "      <th>Number</th>\n",
              "      <th></th>\n",
              "      <th></th>\n",
              "      <th></th>\n",
              "      <th></th>\n",
              "      <th></th>\n",
              "      <th></th>\n",
              "      <th></th>\n",
              "      <th></th>\n",
              "      <th></th>\n",
              "      <th></th>\n",
              "      <th></th>\n",
              "      <th></th>\n",
              "      <th></th>\n",
              "      <th></th>\n",
              "      <th></th>\n",
              "      <th></th>\n",
              "      <th></th>\n",
              "      <th></th>\n",
              "      <th></th>\n",
              "      <th></th>\n",
              "      <th></th>\n",
              "    </tr>\n",
              "  </thead>\n",
              "  <tbody>\n",
              "    <tr>\n",
              "      <th>123</th>\n",
              "      <td>J C McNeil</td>\n",
              "      <td>Vermont</td>\n",
              "      <td>44.492</td>\n",
              "      <td>-73.208</td>\n",
              "      <td>Connected</td>\n",
              "      <td>1</td>\n",
              "      <td>138.0</td>\n",
              "      <td>0.99773</td>\n",
              "      <td>137.686</td>\n",
              "      <td>-46.52</td>\n",
              "      <td>...</td>\n",
              "      <td>NaN</td>\n",
              "      <td>NaN</td>\n",
              "      <td>NaN</td>\n",
              "      <td>NaN</td>\n",
              "      <td>NaN</td>\n",
              "      <td>NaN</td>\n",
              "      <td>NaN</td>\n",
              "      <td>NaN</td>\n",
              "      <td>35</td>\n",
              "      <td>1</td>\n",
              "    </tr>\n",
              "    <tr>\n",
              "      <th>187</th>\n",
              "      <td>9001043100</td>\n",
              "      <td>Connecticut</td>\n",
              "      <td>41.110</td>\n",
              "      <td>-73.457</td>\n",
              "      <td>Connected</td>\n",
              "      <td>1</td>\n",
              "      <td>138.0</td>\n",
              "      <td>0.99500</td>\n",
              "      <td>137.310</td>\n",
              "      <td>-124.63</td>\n",
              "      <td>...</td>\n",
              "      <td>NaN</td>\n",
              "      <td>NaN</td>\n",
              "      <td>NaN</td>\n",
              "      <td>NaN</td>\n",
              "      <td>NaN</td>\n",
              "      <td>NaN</td>\n",
              "      <td>NaN</td>\n",
              "      <td>NaN</td>\n",
              "      <td>3</td>\n",
              "      <td>1</td>\n",
              "    </tr>\n",
              "    <tr>\n",
              "      <th>239</th>\n",
              "      <td>9001071000</td>\n",
              "      <td>Connecticut</td>\n",
              "      <td>41.172</td>\n",
              "      <td>-73.218</td>\n",
              "      <td>Connected</td>\n",
              "      <td>1</td>\n",
              "      <td>230.0</td>\n",
              "      <td>1.00859</td>\n",
              "      <td>231.975</td>\n",
              "      <td>-115.05</td>\n",
              "      <td>...</td>\n",
              "      <td>NaN</td>\n",
              "      <td>NaN</td>\n",
              "      <td>NaN</td>\n",
              "      <td>NaN</td>\n",
              "      <td>NaN</td>\n",
              "      <td>NaN</td>\n",
              "      <td>NaN</td>\n",
              "      <td>NaN</td>\n",
              "      <td>3</td>\n",
              "      <td>1</td>\n",
              "    </tr>\n",
              "    <tr>\n",
              "      <th>338</th>\n",
              "      <td>9001245500</td>\n",
              "      <td>Connecticut</td>\n",
              "      <td>41.275</td>\n",
              "      <td>-73.516</td>\n",
              "      <td>Connected</td>\n",
              "      <td>1</td>\n",
              "      <td>138.0</td>\n",
              "      <td>0.95884</td>\n",
              "      <td>132.319</td>\n",
              "      <td>-122.26</td>\n",
              "      <td>...</td>\n",
              "      <td>NaN</td>\n",
              "      <td>NaN</td>\n",
              "      <td>NaN</td>\n",
              "      <td>NaN</td>\n",
              "      <td>NaN</td>\n",
              "      <td>NaN</td>\n",
              "      <td>NaN</td>\n",
              "      <td>NaN</td>\n",
              "      <td>3</td>\n",
              "      <td>1</td>\n",
              "    </tr>\n",
              "    <tr>\n",
              "      <th>845</th>\n",
              "      <td>9011690300</td>\n",
              "      <td>Connecticut</td>\n",
              "      <td>41.293</td>\n",
              "      <td>-72.925</td>\n",
              "      <td>Connected</td>\n",
              "      <td>1</td>\n",
              "      <td>138.0</td>\n",
              "      <td>0.98595</td>\n",
              "      <td>136.062</td>\n",
              "      <td>-118.53</td>\n",
              "      <td>...</td>\n",
              "      <td>NaN</td>\n",
              "      <td>NaN</td>\n",
              "      <td>NaN</td>\n",
              "      <td>NaN</td>\n",
              "      <td>NaN</td>\n",
              "      <td>NaN</td>\n",
              "      <td>NaN</td>\n",
              "      <td>NaN</td>\n",
              "      <td>3</td>\n",
              "      <td>1</td>\n",
              "    </tr>\n",
              "  </tbody>\n",
              "</table>\n",
              "<p>5 rows × 25 columns</p>\n",
              "</div>\n",
              "    <div class=\"colab-df-buttons\">\n",
              "\n",
              "  <div class=\"colab-df-container\">\n",
              "    <button class=\"colab-df-convert\" onclick=\"convertToInteractive('df-39d30afd-0902-4eb0-9c8e-1b323a0ce8da')\"\n",
              "            title=\"Convert this dataframe to an interactive table.\"\n",
              "            style=\"display:none;\">\n",
              "\n",
              "  <svg xmlns=\"http://www.w3.org/2000/svg\" height=\"24px\" viewBox=\"0 -960 960 960\">\n",
              "    <path d=\"M120-120v-720h720v720H120Zm60-500h600v-160H180v160Zm220 220h160v-160H400v160Zm0 220h160v-160H400v160ZM180-400h160v-160H180v160Zm440 0h160v-160H620v160ZM180-180h160v-160H180v160Zm440 0h160v-160H620v160Z\"/>\n",
              "  </svg>\n",
              "    </button>\n",
              "\n",
              "  <style>\n",
              "    .colab-df-container {\n",
              "      display:flex;\n",
              "      gap: 12px;\n",
              "    }\n",
              "\n",
              "    .colab-df-convert {\n",
              "      background-color: #E8F0FE;\n",
              "      border: none;\n",
              "      border-radius: 50%;\n",
              "      cursor: pointer;\n",
              "      display: none;\n",
              "      fill: #1967D2;\n",
              "      height: 32px;\n",
              "      padding: 0 0 0 0;\n",
              "      width: 32px;\n",
              "    }\n",
              "\n",
              "    .colab-df-convert:hover {\n",
              "      background-color: #E2EBFA;\n",
              "      box-shadow: 0px 1px 2px rgba(60, 64, 67, 0.3), 0px 1px 3px 1px rgba(60, 64, 67, 0.15);\n",
              "      fill: #174EA6;\n",
              "    }\n",
              "\n",
              "    .colab-df-buttons div {\n",
              "      margin-bottom: 4px;\n",
              "    }\n",
              "\n",
              "    [theme=dark] .colab-df-convert {\n",
              "      background-color: #3B4455;\n",
              "      fill: #D2E3FC;\n",
              "    }\n",
              "\n",
              "    [theme=dark] .colab-df-convert:hover {\n",
              "      background-color: #434B5C;\n",
              "      box-shadow: 0px 1px 3px 1px rgba(0, 0, 0, 0.15);\n",
              "      filter: drop-shadow(0px 1px 2px rgba(0, 0, 0, 0.3));\n",
              "      fill: #FFFFFF;\n",
              "    }\n",
              "  </style>\n",
              "\n",
              "    <script>\n",
              "      const buttonEl =\n",
              "        document.querySelector('#df-39d30afd-0902-4eb0-9c8e-1b323a0ce8da button.colab-df-convert');\n",
              "      buttonEl.style.display =\n",
              "        google.colab.kernel.accessAllowed ? 'block' : 'none';\n",
              "\n",
              "      async function convertToInteractive(key) {\n",
              "        const element = document.querySelector('#df-39d30afd-0902-4eb0-9c8e-1b323a0ce8da');\n",
              "        const dataTable =\n",
              "          await google.colab.kernel.invokeFunction('convertToInteractive',\n",
              "                                                    [key], {});\n",
              "        if (!dataTable) return;\n",
              "\n",
              "        const docLinkHtml = 'Like what you see? Visit the ' +\n",
              "          '<a target=\"_blank\" href=https://colab.research.google.com/notebooks/data_table.ipynb>data table notebook</a>'\n",
              "          + ' to learn more about interactive tables.';\n",
              "        element.innerHTML = '';\n",
              "        dataTable['output_type'] = 'display_data';\n",
              "        await google.colab.output.renderOutput(dataTable, element);\n",
              "        const docLink = document.createElement('div');\n",
              "        docLink.innerHTML = docLinkHtml;\n",
              "        element.appendChild(docLink);\n",
              "      }\n",
              "    </script>\n",
              "  </div>\n",
              "\n",
              "\n",
              "<div id=\"df-d13a7066-1c6c-41a8-8c62-908a93aa1536\">\n",
              "  <button class=\"colab-df-quickchart\" onclick=\"quickchart('df-d13a7066-1c6c-41a8-8c62-908a93aa1536')\"\n",
              "            title=\"Suggest charts\"\n",
              "            style=\"display:none;\">\n",
              "\n",
              "<svg xmlns=\"http://www.w3.org/2000/svg\" height=\"24px\"viewBox=\"0 0 24 24\"\n",
              "     width=\"24px\">\n",
              "    <g>\n",
              "        <path d=\"M19 3H5c-1.1 0-2 .9-2 2v14c0 1.1.9 2 2 2h14c1.1 0 2-.9 2-2V5c0-1.1-.9-2-2-2zM9 17H7v-7h2v7zm4 0h-2V7h2v10zm4 0h-2v-4h2v4z\"/>\n",
              "    </g>\n",
              "</svg>\n",
              "  </button>\n",
              "\n",
              "<style>\n",
              "  .colab-df-quickchart {\n",
              "      --bg-color: #E8F0FE;\n",
              "      --fill-color: #1967D2;\n",
              "      --hover-bg-color: #E2EBFA;\n",
              "      --hover-fill-color: #174EA6;\n",
              "      --disabled-fill-color: #AAA;\n",
              "      --disabled-bg-color: #DDD;\n",
              "  }\n",
              "\n",
              "  [theme=dark] .colab-df-quickchart {\n",
              "      --bg-color: #3B4455;\n",
              "      --fill-color: #D2E3FC;\n",
              "      --hover-bg-color: #434B5C;\n",
              "      --hover-fill-color: #FFFFFF;\n",
              "      --disabled-bg-color: #3B4455;\n",
              "      --disabled-fill-color: #666;\n",
              "  }\n",
              "\n",
              "  .colab-df-quickchart {\n",
              "    background-color: var(--bg-color);\n",
              "    border: none;\n",
              "    border-radius: 50%;\n",
              "    cursor: pointer;\n",
              "    display: none;\n",
              "    fill: var(--fill-color);\n",
              "    height: 32px;\n",
              "    padding: 0;\n",
              "    width: 32px;\n",
              "  }\n",
              "\n",
              "  .colab-df-quickchart:hover {\n",
              "    background-color: var(--hover-bg-color);\n",
              "    box-shadow: 0 1px 2px rgba(60, 64, 67, 0.3), 0 1px 3px 1px rgba(60, 64, 67, 0.15);\n",
              "    fill: var(--button-hover-fill-color);\n",
              "  }\n",
              "\n",
              "  .colab-df-quickchart-complete:disabled,\n",
              "  .colab-df-quickchart-complete:disabled:hover {\n",
              "    background-color: var(--disabled-bg-color);\n",
              "    fill: var(--disabled-fill-color);\n",
              "    box-shadow: none;\n",
              "  }\n",
              "\n",
              "  .colab-df-spinner {\n",
              "    border: 2px solid var(--fill-color);\n",
              "    border-color: transparent;\n",
              "    border-bottom-color: var(--fill-color);\n",
              "    animation:\n",
              "      spin 1s steps(1) infinite;\n",
              "  }\n",
              "\n",
              "  @keyframes spin {\n",
              "    0% {\n",
              "      border-color: transparent;\n",
              "      border-bottom-color: var(--fill-color);\n",
              "      border-left-color: var(--fill-color);\n",
              "    }\n",
              "    20% {\n",
              "      border-color: transparent;\n",
              "      border-left-color: var(--fill-color);\n",
              "      border-top-color: var(--fill-color);\n",
              "    }\n",
              "    30% {\n",
              "      border-color: transparent;\n",
              "      border-left-color: var(--fill-color);\n",
              "      border-top-color: var(--fill-color);\n",
              "      border-right-color: var(--fill-color);\n",
              "    }\n",
              "    40% {\n",
              "      border-color: transparent;\n",
              "      border-right-color: var(--fill-color);\n",
              "      border-top-color: var(--fill-color);\n",
              "    }\n",
              "    60% {\n",
              "      border-color: transparent;\n",
              "      border-right-color: var(--fill-color);\n",
              "    }\n",
              "    80% {\n",
              "      border-color: transparent;\n",
              "      border-right-color: var(--fill-color);\n",
              "      border-bottom-color: var(--fill-color);\n",
              "    }\n",
              "    90% {\n",
              "      border-color: transparent;\n",
              "      border-bottom-color: var(--fill-color);\n",
              "    }\n",
              "  }\n",
              "</style>\n",
              "\n",
              "  <script>\n",
              "    async function quickchart(key) {\n",
              "      const quickchartButtonEl =\n",
              "        document.querySelector('#' + key + ' button');\n",
              "      quickchartButtonEl.disabled = true;  // To prevent multiple clicks.\n",
              "      quickchartButtonEl.classList.add('colab-df-spinner');\n",
              "      try {\n",
              "        const charts = await google.colab.kernel.invokeFunction(\n",
              "            'suggestCharts', [key], {});\n",
              "      } catch (error) {\n",
              "        console.error('Error during call to suggestCharts:', error);\n",
              "      }\n",
              "      quickchartButtonEl.classList.remove('colab-df-spinner');\n",
              "      quickchartButtonEl.classList.add('colab-df-quickchart-complete');\n",
              "    }\n",
              "    (() => {\n",
              "      let quickchartButtonEl =\n",
              "        document.querySelector('#df-d13a7066-1c6c-41a8-8c62-908a93aa1536 button');\n",
              "      quickchartButtonEl.style.display =\n",
              "        google.colab.kernel.accessAllowed ? 'block' : 'none';\n",
              "    })();\n",
              "  </script>\n",
              "</div>\n",
              "    </div>\n",
              "  </div>\n"
            ],
            "application/vnd.google.colaboratory.intrinsic+json": {
              "type": "dataframe",
              "variable_name": "buses"
            }
          },
          "metadata": {},
          "execution_count": 30
        }
      ]
    },
    {
      "cell_type": "code",
      "source": [
        "nan_indices_buses = buses.index[buses['Latitude'].isna()].to_list()\n",
        "nan_indices_buses += buses.index[buses['Longitude'].isna()].to_list()\n",
        "duplicate_indices_buses = buses.index[buses.duplicated(subset = ['Name'], keep = False)].to_list()\n",
        "print(buses.loc[nan_indices_buses, 'Name'])\n",
        "print(buses.loc[duplicate_indices_buses, 'Name'])"
      ],
      "metadata": {
        "colab": {
          "base_uri": "https://localhost:8080/",
          "height": 0
        },
        "id": "lWNCrWPOy3v4",
        "outputId": "ceb89913-c947-4e59-efd8-05e5688b5c12"
      },
      "id": "lWNCrWPOy3v4",
      "execution_count": 31,
      "outputs": [
        {
          "output_type": "stream",
          "name": "stdout",
          "text": [
            "Series([], Name: Name, dtype: object)\n",
            "Number\n",
            "3362                        50007002200\n",
            "3502                     Indian Point 2\n",
            "3503                     Indian Point 3\n",
            "3504                Oswego Harbor Power\n",
            "3505                    Charles Poletti\n",
            "                      ...              \n",
            "77626    PSEG Linden Generating Station\n",
            "77627    PSEG Linden Generating Station\n",
            "77635         Bergen Generating Station\n",
            "78036                       34017010800\n",
            "78955                       42069110600\n",
            "Name: Name, Length: 209, dtype: object\n"
          ]
        }
      ]
    },
    {
      "cell_type": "code",
      "source": [
        "duplicate_dict_buses = {}\n",
        "first_appear_buses = {}\n",
        "for index in duplicate_indices_buses:\n",
        "    name = buses.loc[index, 'Name']\n",
        "    if name not in first_appear_buses.keys():\n",
        "        first_appear_buses[name] = index\n",
        "    else:\n",
        "        duplicate_dict_buses[index] = first_appear_buses[name]\n",
        "print(duplicate_dict_buses)\n",
        "print(first_appear_buses)"
      ],
      "metadata": {
        "colab": {
          "base_uri": "https://localhost:8080/",
          "height": 0
        },
        "id": "5zzNXKv70lO0",
        "outputId": "30c18c54-418f-4e14-ae12-daabbde73b9b"
      },
      "id": "5zzNXKv70lO0",
      "execution_count": 32,
      "outputs": [
        {
          "output_type": "stream",
          "name": "stdout",
          "text": [
            "{76428: 3362, 76453: 3502, 76454: 3503, 76455: 3503, 76456: 3504, 76457: 3505, 76458: 3506, 76460: 3507, 76462: 3508, 76463: 3509, 76464: 3509, 76466: 3510, 76467: 3510, 76470: 3512, 76472: 3513, 76473: 3513, 76475: 3514, 76476: 3515, 76478: 3516, 76479: 3517, 76483: 3520, 76484: 3520, 76485: 3521, 76487: 3522, 76488: 3523, 76490: 3524, 76491: 3525, 76492: 3525, 76493: 3526, 76496: 3528, 76497: 3528, 76509: 3542, 76514: 3546, 76515: 3546, 76517: 3547, 76518: 3547, 76526: 3557, 76528: 3558, 76530: 3561, 76533: 3564, 76540: 3571, 76542: 3574, 76543: 3574, 76552: 3593, 76560: 3610, 76563: 3616, 76565: 3627, 76582: 3722, 76654: 4050, 76655: 4051, 76684: 4207, 76702: 4274, 76703: 4274, 76735: 4497, 76779: 4727, 76862: 5105, 76951: 5646, 76980: 5808, 77029: 6063, 77032: 6067, 77033: 6067, 77037: 6077, 77042: 6091, 77053: 6132, 77054: 6132, 77056: 6134, 77094: 6251, 77095: 6251, 77098: 6264, 77121: 6376, 77157: 6525, 77161: 6536, 77162: 6536, 77179: 6621, 77196: 6690, 77197: 6694, 77200: 6698, 77224: 6806, 77231: 6842, 77233: 6845, 77236: 6860, 77254: 6918, 77335: 7240, 77359: 7413, 77390: 7541, 77394: 7549, 77395: 7550, 77401: 7568, 77410: 7608, 77411: 7609, 77412: 7613, 77426: 7711, 77445: 7796, 77450: 7829, 77465: 7901, 77470: 7912, 77498: 8120, 77523: 8218, 77535: 8275, 77537: 8278, 77540: 8286, 77541: 8288, 77542: 8288, 77548: 8306, 77555: 8324, 77556: 8324, 77583: 8410, 77590: 8426, 77593: 8428, 77627: 77626, 77635: 8523, 78036: 9563, 78955: 12280}\n",
            "{'50007002200': 3362, 'Indian Point 2': 3502, 'Indian Point 3': 3503, 'Oswego Harbor Power': 3504, 'Charles Poletti': 3505, 'James A Fitzpatrick': 3506, 'Somerset Operating Co LLC': 3507, 'Nine Mile Point Nuclear Station': 3508, 'Bowline Point': 3509, 'Roseton Generating Facility': 3510, 'Selkirk Cogen': 3512, 'Northport': 3513, 'Arthur Kill Generating Station': 3514, 'E F Barrett': 3515, 'Athens Generating Plant': 3516, 'Blenheim Gilboa': 3517, 'Astoria Generating Station': 3520, 'Bethpage Power Plant': 3521, 'Empire Generating Co  LLC': 3522, 'Ravenswood': 3523, 'Astoria Energy': 3524, '500MW CC': 3525, 'Sithe Independence Station': 3526, 'Astoria Gas Turbines': 3528, 'Saranac Facility': 3542, 'Covanta Hempstead': 3546, 'Danskammer Generating Station': 3547, 'Robert Moses Power Dam': 3557, 'Holtsville': 3558, 'Fortistar North Tonawanda': 3561, 'Port Jefferson': 3564, 'Rensselaer Cogen': 3571, 'Lockport Energy Associates LP': 3574, 'Shoemaker': 3593, 'Stark': 3610, 'Five Falls': 3616, 'Gowanus Gas Turbines Generating': 3627, '36005001900': 3722, '36005046201': 4050, '36005046202': 4051, '36017970300': 4207, '36025970600': 4274, '36029010803': 4497, '36047001800': 4727, '36047044900': 5105, '36055013104': 5646, '36059407301': 5808, '36061006800': 6063, '36061007200': 6067, '36061008200': 6077, '36061009600': 6091, '36061013600': 6132, '36061013800': 6134, '36061025100': 6251, '36061027700': 6264, '36065023400': 6376, '36067014400': 6525, '36067015400': 6536, '36071011900': 6621, '36075021401': 6690, '36075021601': 6694, '36075021605': 6698, '36081010300': 6806, '36081014300': 6842, '36081014700': 6845, '36081016300': 6860, '36081025500': 6918, '36081079900': 7240, '36083051500': 7413, '36085029102': 7541, '36087010101': 7549, '36087010102': 7550, '36087011102': 7568, '36087013003': 7608, '36087013100': 7609, '36087013402': 7613, '36093032101': 7711, '36103110600': 7796, '36103112206': 7829, '36103135209': 7901, '36103145701': 7912, '36105951100': 8120, '36113070500': 8218, '36119000201': 8275, '36119000300': 8278, '36119000802': 8286, '36119000900': 8288, '36119001900': 8306, '36119002600': 8324, '36119010200': 8410, '36119011200': 8426, '36119011400': 8428, 'Bergen Generating Station': 8523, '34017010800': 9563, '42069110600': 12280, 'PSEG Linden Generating Station': 77626}\n"
          ]
        }
      ]
    },
    {
      "cell_type": "code",
      "execution_count": 33,
      "id": "baf08ec7",
      "metadata": {
        "id": "baf08ec7",
        "outputId": "6550bf56-9a73-4d19-eb80-d1031cd38e4b",
        "colab": {
          "base_uri": "https://localhost:8080/",
          "height": 206
        }
      },
      "outputs": [
        {
          "output_type": "execute_result",
          "data": {
            "text/plain": [
              "   branch number   first bus number   second bus number\n",
              "0              1                123                4232\n",
              "1              2                187                3532\n",
              "2              3                239               76466\n",
              "3              4                338                8443\n",
              "4              5                845                8079"
            ],
            "text/html": [
              "\n",
              "  <div id=\"df-81d8441b-9c20-4bdd-941e-df3912d1ca63\" class=\"colab-df-container\">\n",
              "    <div>\n",
              "<style scoped>\n",
              "    .dataframe tbody tr th:only-of-type {\n",
              "        vertical-align: middle;\n",
              "    }\n",
              "\n",
              "    .dataframe tbody tr th {\n",
              "        vertical-align: top;\n",
              "    }\n",
              "\n",
              "    .dataframe thead th {\n",
              "        text-align: right;\n",
              "    }\n",
              "</style>\n",
              "<table border=\"1\" class=\"dataframe\">\n",
              "  <thead>\n",
              "    <tr style=\"text-align: right;\">\n",
              "      <th></th>\n",
              "      <th>branch number</th>\n",
              "      <th>first bus number</th>\n",
              "      <th>second bus number</th>\n",
              "    </tr>\n",
              "  </thead>\n",
              "  <tbody>\n",
              "    <tr>\n",
              "      <th>0</th>\n",
              "      <td>1</td>\n",
              "      <td>123</td>\n",
              "      <td>4232</td>\n",
              "    </tr>\n",
              "    <tr>\n",
              "      <th>1</th>\n",
              "      <td>2</td>\n",
              "      <td>187</td>\n",
              "      <td>3532</td>\n",
              "    </tr>\n",
              "    <tr>\n",
              "      <th>2</th>\n",
              "      <td>3</td>\n",
              "      <td>239</td>\n",
              "      <td>76466</td>\n",
              "    </tr>\n",
              "    <tr>\n",
              "      <th>3</th>\n",
              "      <td>4</td>\n",
              "      <td>338</td>\n",
              "      <td>8443</td>\n",
              "    </tr>\n",
              "    <tr>\n",
              "      <th>4</th>\n",
              "      <td>5</td>\n",
              "      <td>845</td>\n",
              "      <td>8079</td>\n",
              "    </tr>\n",
              "  </tbody>\n",
              "</table>\n",
              "</div>\n",
              "    <div class=\"colab-df-buttons\">\n",
              "\n",
              "  <div class=\"colab-df-container\">\n",
              "    <button class=\"colab-df-convert\" onclick=\"convertToInteractive('df-81d8441b-9c20-4bdd-941e-df3912d1ca63')\"\n",
              "            title=\"Convert this dataframe to an interactive table.\"\n",
              "            style=\"display:none;\">\n",
              "\n",
              "  <svg xmlns=\"http://www.w3.org/2000/svg\" height=\"24px\" viewBox=\"0 -960 960 960\">\n",
              "    <path d=\"M120-120v-720h720v720H120Zm60-500h600v-160H180v160Zm220 220h160v-160H400v160Zm0 220h160v-160H400v160ZM180-400h160v-160H180v160Zm440 0h160v-160H620v160ZM180-180h160v-160H180v160Zm440 0h160v-160H620v160Z\"/>\n",
              "  </svg>\n",
              "    </button>\n",
              "\n",
              "  <style>\n",
              "    .colab-df-container {\n",
              "      display:flex;\n",
              "      gap: 12px;\n",
              "    }\n",
              "\n",
              "    .colab-df-convert {\n",
              "      background-color: #E8F0FE;\n",
              "      border: none;\n",
              "      border-radius: 50%;\n",
              "      cursor: pointer;\n",
              "      display: none;\n",
              "      fill: #1967D2;\n",
              "      height: 32px;\n",
              "      padding: 0 0 0 0;\n",
              "      width: 32px;\n",
              "    }\n",
              "\n",
              "    .colab-df-convert:hover {\n",
              "      background-color: #E2EBFA;\n",
              "      box-shadow: 0px 1px 2px rgba(60, 64, 67, 0.3), 0px 1px 3px 1px rgba(60, 64, 67, 0.15);\n",
              "      fill: #174EA6;\n",
              "    }\n",
              "\n",
              "    .colab-df-buttons div {\n",
              "      margin-bottom: 4px;\n",
              "    }\n",
              "\n",
              "    [theme=dark] .colab-df-convert {\n",
              "      background-color: #3B4455;\n",
              "      fill: #D2E3FC;\n",
              "    }\n",
              "\n",
              "    [theme=dark] .colab-df-convert:hover {\n",
              "      background-color: #434B5C;\n",
              "      box-shadow: 0px 1px 3px 1px rgba(0, 0, 0, 0.15);\n",
              "      filter: drop-shadow(0px 1px 2px rgba(0, 0, 0, 0.3));\n",
              "      fill: #FFFFFF;\n",
              "    }\n",
              "  </style>\n",
              "\n",
              "    <script>\n",
              "      const buttonEl =\n",
              "        document.querySelector('#df-81d8441b-9c20-4bdd-941e-df3912d1ca63 button.colab-df-convert');\n",
              "      buttonEl.style.display =\n",
              "        google.colab.kernel.accessAllowed ? 'block' : 'none';\n",
              "\n",
              "      async function convertToInteractive(key) {\n",
              "        const element = document.querySelector('#df-81d8441b-9c20-4bdd-941e-df3912d1ca63');\n",
              "        const dataTable =\n",
              "          await google.colab.kernel.invokeFunction('convertToInteractive',\n",
              "                                                    [key], {});\n",
              "        if (!dataTable) return;\n",
              "\n",
              "        const docLinkHtml = 'Like what you see? Visit the ' +\n",
              "          '<a target=\"_blank\" href=https://colab.research.google.com/notebooks/data_table.ipynb>data table notebook</a>'\n",
              "          + ' to learn more about interactive tables.';\n",
              "        element.innerHTML = '';\n",
              "        dataTable['output_type'] = 'display_data';\n",
              "        await google.colab.output.renderOutput(dataTable, element);\n",
              "        const docLink = document.createElement('div');\n",
              "        docLink.innerHTML = docLinkHtml;\n",
              "        element.appendChild(docLink);\n",
              "      }\n",
              "    </script>\n",
              "  </div>\n",
              "\n",
              "\n",
              "<div id=\"df-5ff66259-f1ae-4f35-b0da-f63f4feded2d\">\n",
              "  <button class=\"colab-df-quickchart\" onclick=\"quickchart('df-5ff66259-f1ae-4f35-b0da-f63f4feded2d')\"\n",
              "            title=\"Suggest charts\"\n",
              "            style=\"display:none;\">\n",
              "\n",
              "<svg xmlns=\"http://www.w3.org/2000/svg\" height=\"24px\"viewBox=\"0 0 24 24\"\n",
              "     width=\"24px\">\n",
              "    <g>\n",
              "        <path d=\"M19 3H5c-1.1 0-2 .9-2 2v14c0 1.1.9 2 2 2h14c1.1 0 2-.9 2-2V5c0-1.1-.9-2-2-2zM9 17H7v-7h2v7zm4 0h-2V7h2v10zm4 0h-2v-4h2v4z\"/>\n",
              "    </g>\n",
              "</svg>\n",
              "  </button>\n",
              "\n",
              "<style>\n",
              "  .colab-df-quickchart {\n",
              "      --bg-color: #E8F0FE;\n",
              "      --fill-color: #1967D2;\n",
              "      --hover-bg-color: #E2EBFA;\n",
              "      --hover-fill-color: #174EA6;\n",
              "      --disabled-fill-color: #AAA;\n",
              "      --disabled-bg-color: #DDD;\n",
              "  }\n",
              "\n",
              "  [theme=dark] .colab-df-quickchart {\n",
              "      --bg-color: #3B4455;\n",
              "      --fill-color: #D2E3FC;\n",
              "      --hover-bg-color: #434B5C;\n",
              "      --hover-fill-color: #FFFFFF;\n",
              "      --disabled-bg-color: #3B4455;\n",
              "      --disabled-fill-color: #666;\n",
              "  }\n",
              "\n",
              "  .colab-df-quickchart {\n",
              "    background-color: var(--bg-color);\n",
              "    border: none;\n",
              "    border-radius: 50%;\n",
              "    cursor: pointer;\n",
              "    display: none;\n",
              "    fill: var(--fill-color);\n",
              "    height: 32px;\n",
              "    padding: 0;\n",
              "    width: 32px;\n",
              "  }\n",
              "\n",
              "  .colab-df-quickchart:hover {\n",
              "    background-color: var(--hover-bg-color);\n",
              "    box-shadow: 0 1px 2px rgba(60, 64, 67, 0.3), 0 1px 3px 1px rgba(60, 64, 67, 0.15);\n",
              "    fill: var(--button-hover-fill-color);\n",
              "  }\n",
              "\n",
              "  .colab-df-quickchart-complete:disabled,\n",
              "  .colab-df-quickchart-complete:disabled:hover {\n",
              "    background-color: var(--disabled-bg-color);\n",
              "    fill: var(--disabled-fill-color);\n",
              "    box-shadow: none;\n",
              "  }\n",
              "\n",
              "  .colab-df-spinner {\n",
              "    border: 2px solid var(--fill-color);\n",
              "    border-color: transparent;\n",
              "    border-bottom-color: var(--fill-color);\n",
              "    animation:\n",
              "      spin 1s steps(1) infinite;\n",
              "  }\n",
              "\n",
              "  @keyframes spin {\n",
              "    0% {\n",
              "      border-color: transparent;\n",
              "      border-bottom-color: var(--fill-color);\n",
              "      border-left-color: var(--fill-color);\n",
              "    }\n",
              "    20% {\n",
              "      border-color: transparent;\n",
              "      border-left-color: var(--fill-color);\n",
              "      border-top-color: var(--fill-color);\n",
              "    }\n",
              "    30% {\n",
              "      border-color: transparent;\n",
              "      border-left-color: var(--fill-color);\n",
              "      border-top-color: var(--fill-color);\n",
              "      border-right-color: var(--fill-color);\n",
              "    }\n",
              "    40% {\n",
              "      border-color: transparent;\n",
              "      border-right-color: var(--fill-color);\n",
              "      border-top-color: var(--fill-color);\n",
              "    }\n",
              "    60% {\n",
              "      border-color: transparent;\n",
              "      border-right-color: var(--fill-color);\n",
              "    }\n",
              "    80% {\n",
              "      border-color: transparent;\n",
              "      border-right-color: var(--fill-color);\n",
              "      border-bottom-color: var(--fill-color);\n",
              "    }\n",
              "    90% {\n",
              "      border-color: transparent;\n",
              "      border-bottom-color: var(--fill-color);\n",
              "    }\n",
              "  }\n",
              "</style>\n",
              "\n",
              "  <script>\n",
              "    async function quickchart(key) {\n",
              "      const quickchartButtonEl =\n",
              "        document.querySelector('#' + key + ' button');\n",
              "      quickchartButtonEl.disabled = true;  // To prevent multiple clicks.\n",
              "      quickchartButtonEl.classList.add('colab-df-spinner');\n",
              "      try {\n",
              "        const charts = await google.colab.kernel.invokeFunction(\n",
              "            'suggestCharts', [key], {});\n",
              "      } catch (error) {\n",
              "        console.error('Error during call to suggestCharts:', error);\n",
              "      }\n",
              "      quickchartButtonEl.classList.remove('colab-df-spinner');\n",
              "      quickchartButtonEl.classList.add('colab-df-quickchart-complete');\n",
              "    }\n",
              "    (() => {\n",
              "      let quickchartButtonEl =\n",
              "        document.querySelector('#df-5ff66259-f1ae-4f35-b0da-f63f4feded2d button');\n",
              "      quickchartButtonEl.style.display =\n",
              "        google.colab.kernel.accessAllowed ? 'block' : 'none';\n",
              "    })();\n",
              "  </script>\n",
              "</div>\n",
              "    </div>\n",
              "  </div>\n"
            ],
            "application/vnd.google.colaboratory.intrinsic+json": {
              "type": "dataframe",
              "variable_name": "branches",
              "summary": "{\n  \"name\": \"branches\",\n  \"rows\": 2203,\n  \"fields\": [\n    {\n      \"column\": \"branch number\",\n      \"properties\": {\n        \"dtype\": \"number\",\n        \"std\": 636,\n        \"min\": 1,\n        \"max\": 2203,\n        \"samples\": [\n          781,\n          582,\n          1753\n        ],\n        \"num_unique_values\": 2203,\n        \"semantic_type\": \"\",\n        \"description\": \"\"\n      }\n    },\n    {\n      \"column\": \" first bus number\",\n      \"properties\": {\n        \"dtype\": \"number\",\n        \"std\": 23600,\n        \"min\": 123,\n        \"max\": 95342,\n        \"samples\": [\n          76735,\n          6613,\n          7613\n        ],\n        \"num_unique_values\": 1408,\n        \"semantic_type\": \"\",\n        \"description\": \"\"\n      }\n    },\n    {\n      \"column\": \" second bus number\",\n      \"properties\": {\n        \"dtype\": \"number\",\n        \"std\": 22852,\n        \"min\": 3503,\n        \"max\": 95341,\n        \"samples\": [\n          6136,\n          7217,\n          77224\n        ],\n        \"num_unique_values\": 1453,\n        \"semantic_type\": \"\",\n        \"description\": \"\"\n      }\n    }\n  ]\n}"
            }
          },
          "metadata": {},
          "execution_count": 33
        }
      ],
      "source": [
        "branches.head()"
      ]
    },
    {
      "cell_type": "code",
      "source": [
        "nan_indices_branches = branches.index[branches[' first bus number'].isna()].to_list()\n",
        "nan_indices_branches += branches.index[branches[' second bus number'].isna()].to_list()\n",
        "print(branches.loc[nan_indices_branches, 'branch number'])"
      ],
      "metadata": {
        "colab": {
          "base_uri": "https://localhost:8080/",
          "height": 0
        },
        "id": "PNyshoW6COdo",
        "outputId": "54069b59-3775-4e26-c9bc-da5f9a2aef59"
      },
      "id": "PNyshoW6COdo",
      "execution_count": 34,
      "outputs": [
        {
          "output_type": "stream",
          "name": "stdout",
          "text": [
            "Series([], Name: branch number, dtype: int64)\n"
          ]
        }
      ]
    },
    {
      "cell_type": "code",
      "execution_count": 35,
      "id": "5f1c9bd9",
      "metadata": {
        "scrolled": true,
        "id": "5f1c9bd9"
      },
      "outputs": [],
      "source": [
        "branches.drop_duplicates(subset = [' first bus number', ' second bus number'], keep = 'first', inplace = True)"
      ]
    },
    {
      "cell_type": "markdown",
      "source": [
        "## Problem 1"
      ],
      "metadata": {
        "id": "QL5QucB-H5X5"
      },
      "id": "QL5QucB-H5X5"
    },
    {
      "cell_type": "code",
      "source": [
        "G1 = nx.Graph()\n",
        "\n",
        "for i in branches.index:\n",
        "    bus1 = branches.loc[i][' first bus number'].astype('int32')\n",
        "    bus2 = branches.loc[i][' second bus number'].astype('int32')\n",
        "    if bus1 in duplicate_dict_buses.keys():\n",
        "      bus1 = duplicate_dict_buses[bus1]\n",
        "    if bus2 in duplicate_dict_buses.keys():\n",
        "      bus2 = duplicate_dict_buses[bus2]\n",
        "    location1 = (buses.loc[bus1]['Latitude'], buses.loc[bus1]['Longitude'])\n",
        "    location2 = (buses.loc[bus2]['Latitude'], buses.loc[bus2]['Longitude'])\n",
        "    G1.add_edge(bus1, bus2, weight=great_circle(location1, location2).miles)"
      ],
      "metadata": {
        "id": "66OSOzh79tQB"
      },
      "id": "66OSOzh79tQB",
      "execution_count": 36,
      "outputs": []
    },
    {
      "cell_type": "code",
      "execution_count": 16,
      "id": "02de46e2",
      "metadata": {
        "id": "02de46e2",
        "outputId": "d3f7baf6-8336-451c-8b7f-ca919ad5a575",
        "colab": {
          "base_uri": "https://localhost:8080/",
          "height": 490
        }
      },
      "outputs": [
        {
          "output_type": "stream",
          "name": "stderr",
          "text": [
            "100%|██████████| 1000000/1000000 [05:13<00:00, 3185.24it/s]\n"
          ]
        },
        {
          "output_type": "display_data",
          "data": {
            "text/plain": [
              "<Figure size 640x480 with 1 Axes>"
            ],
            "image/png": "[encoded data removed]"
          },
          "metadata": {}
        }
      ],
      "source": [
        "# Repeat one million times with a loading bar\n",
        "shortest_path_lengths = []\n",
        "with tqdm(total=1000000) as pbar:  # Initialize the progress bar\n",
        "    for _ in range(1000000):\n",
        "        # Choose two random nodes\n",
        "        node_a = random.choice(list(G1.nodes()))\n",
        "        node_b = random.choice(list(G1.nodes()))\n",
        "\n",
        "        # Compute shortest path length between the chosen nodes\n",
        "        shortest_path_length = nx.shortest_path_length(G1, source=node_a, target=node_b)\n",
        "        shortest_path_lengths.append(shortest_path_length)\n",
        "\n",
        "        # Update the progress bar\n",
        "        pbar.update(1)\n",
        "\n",
        "# Plot histogram\n",
        "plt.hist(shortest_path_lengths, bins=50, edgecolor='black')\n",
        "plt.title('Distribution of Shortest Path Lengths')\n",
        "plt.xlabel('Shortest Path Length')\n",
        "plt.ylabel('Frequency')\n",
        "plt.grid(True)\n",
        "plt.show()"
      ]
    },
    {
      "cell_type": "markdown",
      "source": [
        "## Problem 2"
      ],
      "metadata": {
        "id": "vZaGWG18H9xb"
      },
      "id": "vZaGWG18H9xb"
    },
    {
      "cell_type": "code",
      "source": [
        "def from_shortest_path_to_graph(lst, G):\n",
        "    G_sp = nx.Graph()\n",
        "    for i in range(1, len(lst)):\n",
        "        u = lst[i-1]\n",
        "        v = lst[i]\n",
        "        G_sp.add_edge(u, v, weight = G[u][v]['weight'])\n",
        "    return G_sp"
      ],
      "metadata": {
        "id": "tYVmNi9SCBZ6"
      },
      "id": "tYVmNi9SCBZ6",
      "execution_count": 63,
      "outputs": []
    },
    {
      "cell_type": "code",
      "source": [
        "def pairing(odd_nodes, G):\n",
        "    #no need to handle len(odd_nodes) = 1 mod 2 cuz the number of odd nodes cannot be odd\n",
        "    np.random.shuffle(odd_nodes)\n",
        "    pairs = [odd_nodes[i:i+2] for i in range(0, len(odd_nodes), 2)]\n",
        "    matching = nx.MultiGraph()\n",
        "    for i in range(len(pairs)):\n",
        "      node_a = pairs[i][0]\n",
        "      node_b = pairs[i][1]\n",
        "      shortest_path = nx.shortest_path(G, source=node_a, target=node_b)\n",
        "      shortest_path_G = from_shortest_path_to_graph(shortest_path, G)\n",
        "      matching.add_edges_from((u, v, data) for u, v, data in shortest_path_G.edges(data=True))\n",
        "    return matching"
      ],
      "metadata": {
        "id": "5pOTPhmBFBJT"
      },
      "id": "5pOTPhmBFBJT",
      "execution_count": 64,
      "outputs": []
    },
    {
      "cell_type": "code",
      "source": [
        "def _shortcutting(circuit):\n",
        "    \"\"\"\n",
        "    Remove duplicate nodes in the path\n",
        "    \"\"\"\n",
        "    nodes = []\n",
        "    for u, v in circuit:\n",
        "        if v in nodes:\n",
        "            continue\n",
        "        if not nodes:\n",
        "            nodes.append(u)\n",
        "        nodes.append(v)\n",
        "    nodes.append(nodes[0])\n",
        "    return nodes"
      ],
      "metadata": {
        "id": "Qt1airotG1q8"
      },
      "id": "Qt1airotG1q8",
      "execution_count": 65,
      "outputs": []
    },
    {
      "cell_type": "code",
      "source": [
        "def min_cost_node_tour(G, trials = 1):\n",
        "    nodes = list(G.nodes)\n",
        "    dist = {}\n",
        "    path = {}\n",
        "    for n, (d, p) in nx.all_pairs_dijkstra(G):\n",
        "        dist[n] = d\n",
        "        path[n] = p\n",
        "    GG = nx.Graph()\n",
        "    for u in nodes:\n",
        "        for v in nodes:\n",
        "            if u == v:\n",
        "                continue\n",
        "            GG.add_edge(u, v, weight=dist[u][v])\n",
        "\n",
        "    mst = nx.minimum_spanning_tree(GG)\n",
        "    odd_nodes = [node for node, degree in mst.degree() if degree % 2 == 1]\n",
        "\n",
        "    best_cost = float('inf')\n",
        "    best_tour = None\n",
        "\n",
        "    for _ in tqdm(range(trials)):\n",
        "        MG = nx.MultiGraph()\n",
        "        MG.add_edges_from(mst.edges)\n",
        "        matching = pairing(odd_nodes, GG)\n",
        "        MG.add_edges_from(matching.edges)\n",
        "        try:\n",
        "            tour = _shortcutting(nx.eulerian_circuit(MG))\n",
        "        except nx.NetworkXError:\n",
        "            continue\n",
        "        else:\n",
        "            cost = sum(GG[u][v]['weight'] for u, v in zip(tour, tour[1:]))\n",
        "            if cost < best_cost:\n",
        "              best_cost = cost\n",
        "              best_tour = tour\n",
        "\n",
        "    best_path = []\n",
        "    for i in range(len(best_tour)-1):\n",
        "        best_path.extend(path[best_tour[i]][best_tour[i+1]][:-1])\n",
        "    best_path.append(best_tour[-1])\n",
        "    return best_cost, best_tour"
      ],
      "metadata": {
        "id": "UprFkIoYOFMz"
      },
      "id": "UprFkIoYOFMz",
      "execution_count": 72,
      "outputs": []
    },
    {
      "cell_type": "code",
      "source": [
        "best_cost, best_tour = min_cost_node_tour(G1, 1)\n",
        "print(\"Best cost:\", best_cost)\n",
        "print(\"Best tour:\", best_tour)"
      ],
      "metadata": {
        "colab": {
          "base_uri": "https://localhost:8080/",
          "height": 0
        },
        "id": "cXsWDsb0MNs_",
        "outputId": "bb6af037-ce8a-4e76-b38b-2e30b1ec70d1"
      },
      "id": "cXsWDsb0MNs_",
      "execution_count": 73,
      "outputs": [
        {
          "output_type": "stream",
          "name": "stderr",
          "text": [
            "100%|██████████| 1/1 [00:00<00:00,  4.75it/s]\n"
          ]
        },
        {
          "output_type": "stream",
          "name": "stdout",
          "text": [
            "Best cost: 44936.728377602565\n",
            "Best tour: [123, 5420, 5439, 5435, 5433, 3518, 8051, 8049, 7977, 7976, 4897, 4895, 4894, 4793, 4782, 4781, 4776, 4718, 4727, 3627, 4753, 4955, 4959, 4965, 4971, 4973, 4977, 8134, 4074, 4088, 4104, 8136, 8135, 8162, 8157, 8163, 8164, 4340, 4357, 3510, 4293, 6720, 6726, 6729, 6727, 7982, 7985, 7997, 8000, 3564, 75578, 6202, 6207, 6213, 6221, 6226, 6225, 6228, 8748, 6559, 6558, 6560, 8264, 8265, 8266, 8271, 5719, 5720, 5721, 5724, 5725, 3618, 7647, 3602, 8225, 8304, 8318, 8323, 8322, 8321, 8333, 8328, 8327, 4040, 4021, 4037, 4039, 4035, 4027, 4014, 4002, 3996, 3986, 8361, 8358, 8359, 8372, 8371, 8370, 8406, 8403, 8402, 8398, 8419, 8408, 8416, 8409, 8348, 8349, 8350, 8351, 8366, 8352, 6948, 6943, 6939, 7548, 7541, 77626, 6232, 6236, 6241, 6244, 6249, 8410, 8411, 8288, 8306, 8773, 3917, 3933, 3909, 3931, 3926, 3897, 3901, 5744, 5743, 3597, 7760, 6666, 6665, 6673, 6674, 6679, 6676, 6409, 6411, 3551, 6410, 6412, 6399, 6400, 6401, 4673, 6701, 6699, 6705, 7739, 8331, 8338, 8336, 8343, 8344, 8345, 4644, 4645, 4647, 4648, 4640, 5693, 3997, 3999, 3995, 5210, 5208, 5140, 5159, 7332, 7313, 7293, 7304, 7290, 3784, 3797, 3794, 3800, 3806, 3830, 3907, 3910, 6890, 6905, 6915, 6864, 6918, 6919, 6921, 6923, 6951, 6955, 6933, 7042, 7045, 7191, 7193, 7196, 7205, 7214, 7221, 7227, 7228, 6900, 6898, 7226, 7225, 6277, 3929, 3934, 3932, 3930, 3923, 3963, 3960, 3954, 3958, 8295, 8275, 8278, 8767, 4468, 4461, 4460, 6304, 3574, 6339, 6953, 6968, 6980, 7019, 6907, 6904, 6901, 7229, 7348, 7240, 6897, 6841, 6824, 4450, 3561, 6305, 8033, 3558, 7905, 7901, 6847, 6849, 6845, 6844, 6839, 6836, 6821, 6823, 6834, 6825, 3524, 6810, 3528, 3718, 6800, 6804, 6806, 6774, 6770, 6772, 6787, 6786, 6785, 6784, 6802, 6796, 6794, 6140, 6132, 6128, 3598, 6120, 6122, 6115, 4281, 4274, 4282, 8129, 8130, 8131, 8132, 8133, 6616, 6615, 6595, 3921, 3927, 6276, 6275, 6271, 6270, 6264, 8523, 12673, 3588, 4126, 8503, 4565, 4579, 3541, 78886, 6193, 6189, 6178, 6169, 6165, 9654, 7488, 7492, 7487, 7477, 7475, 7474, 7469, 7468, 5099, 5101, 5103, 5083, 5079, 5077, 5075, 5050, 5042, 5040, 5039, 5037, 4968, 4976, 5005, 5009, 5013, 5354, 5353, 7769, 7771, 7758, 8508, 8506, 3533, 7755, 7754, 7751, 7752, 6575, 6914, 6913, 6910, 6909, 7075, 7072, 7077, 7080, 7087, 6899, 5105, 8206, 8209, 8211, 8174, 8212, 4659, 4657, 3517, 7736, 7738, 5716, 5715, 4681, 4680, 4687, 4688, 6360, 6413, 6346, 6348, 6343, 6347, 6350, 6406, 6359, 6352, 6355, 6345, 6583, 6584, 6585, 6586, 6627, 6628, 6630, 6631, 6637, 6248, 7444, 7457, 7453, 7458, 7510, 7508, 7513, 7514, 7515, 7534, 7542, 9829, 4542, 4560, 4559, 4558, 4653, 4643, 4646, 4649, 3549, 6645, 6621, 3593, 6591, 6658, 6613, 8122, 8120, 8208, 7914, 7929, 7930, 7927, 7925, 7922, 7921, 3519, 5186, 5184, 5180, 5470, 4908, 4910, 4902, 4865, 7646, 7645, 4553, 4555, 4557, 4556, 4642, 7609, 7610, 7608, 7607, 7606, 7605, 7604, 8864, 7790, 7789, 5942, 5940, 5934, 5935, 5997, 5993, 7863, 7865, 7860, 7858, 7857, 7835, 7836, 4026, 3920, 3919, 4018, 3567, 7861, 7239, 7238, 6233, 6235, 6234, 6238, 6242, 6251, 3842, 3851, 3858, 3861, 3827, 3828, 4896, 4974, 4888, 4884, 4988, 5316, 5149, 5154, 5482, 5646, 5552, 5550, 5549, 5547, 5574, 5601, 5606, 5603, 5597, 5702, 5594, 5590, 5576, 3778, 3770, 3769, 3763, 7525, 3514, 77640, 3547, 6598, 6587, 6625, 6137, 6136, 6134, 9599, 3573, 6527, 6650, 6652, 7585, 7582, 6188, 6218, 6220, 6192, 6186, 6184, 6190, 6196, 6194, 3722, 3745, 8056, 8054, 8079, 3566, 3535, 7945, 7944, 4775, 4728, 3619, 4730, 4766, 5736, 5722, 7384, 7317, 7382, 7375, 7359, 7470, 9563, 6415, 6403, 6378, 6377, 6376, 6363, 4334, 8181, 8178, 8190, 4304, 4306, 4320, 4350, 4356, 4453, 4448, 4447, 4445, 4434, 4590, 4464, 4147, 4141, 4134, 4132, 4131, 4130, 6689, 8043, 3545, 8020, 7748, 8270, 8269, 8268, 8430, 8429, 8428, 8424, 8427, 8412, 8413, 8415, 8308, 8312, 8310, 8314, 7764, 7763, 7611, 7613, 8750, 8284, 8285, 8286, 8305, 5273, 5274, 7270, 7272, 7274, 7275, 7276, 7280, 7279, 7283, 7284, 7287, 7297, 7302, 7303, 5915, 5916, 5918, 3515, 6554, 6539, 6533, 6532, 6531, 6537, 6536, 6526, 6525, 6102, 6100, 6081, 6093, 6091, 6109, 6103, 6096, 6090, 6086, 6082, 6076, 6068, 6064, 6034, 6036, 6016, 5857, 5847, 5848, 5846, 5860, 5862, 5873, 5875, 5877, 3654, 7413, 7433, 5306, 5332, 5341, 5342, 5324, 5321, 4994, 4995, 4998, 4999, 4979, 4939, 4941, 4943, 4945, 4949, 4951, 4926, 4929, 8380, 8381, 8382, 8386, 8493, 8391, 8392, 8393, 8400, 8394, 8396, 8421, 8420, 8423, 8489, 8433, 8434, 8436, 8437, 8439, 8450, 8449, 8447, 8491, 8445, 8443, 8488, 6732, 6734, 6733, 6717, 4315, 4289, 4288, 4344, 4283, 4312, 6101, 3523, 3509, 8839, 8221, 8216, 8217, 8218, 5683, 5480, 4651, 7286, 7301, 3539, 5849, 5851, 7134, 7136, 7137, 7139, 7183, 7058, 5684, 5673, 5677, 5579, 5521, 5520, 5518, 3529, 5516, 7808, 7806, 7795, 7794, 7796, 7899, 95340, 5815, 3562, 4267, 4071, 4072, 4075, 4076, 4078, 4060, 95342, 3738, 3736, 3762, 3849, 3862, 3847, 3846, 3890, 3899, 3838, 3903, 3924, 3922, 8177, 8210, 8169, 8168, 8167, 4667, 3622, 3556, 6698, 6697, 6696, 6691, 6687, 6688, 6496, 6498, 6501, 6502, 6549, 6550, 4136, 4137, 8165, 4268, 4260, 4262, 4261, 4259, 4258, 8513, 6067, 6057, 6055, 6041, 6024, 6022, 6021, 6018, 6017, 6007, 8121, 6608, 6604, 3579, 3951, 3993, 5109, 5125, 5126, 5746, 5771, 5773, 5750, 5749, 5759, 3546, 7612, 7202, 7216, 7217, 7218, 7013, 7015, 7010, 7007, 6997, 6989, 6984, 6983, 6981, 6975, 6971, 6966, 6495, 6499, 6500, 6510, 3550, 6511, 6512, 6514, 6438, 6457, 6465, 6466, 6468, 6467, 6544, 6543, 6540, 3525, 3581, 3582, 3728, 3727, 3726, 6245, 6198, 6201, 6222, 6254, 6206, 6209, 6211, 6215, 6217, 6229, 6214, 7635, 3625, 3594, 4705, 4714, 5475, 7638, 3610, 3616, 7633, 7627, 3609, 4335, 4316, 4254, 4250, 4247, 4249, 3516, 5628, 5625, 5624, 5619, 3511, 3729, 3753, 3857, 3854, 239, 4296, 4346, 4298, 6721, 6722, 6638, 6723, 8473, 3555, 8464, 6130, 6003, 6011, 7100, 7106, 7108, 5968, 5971, 8287, 8282, 8281, 8289, 8291, 5813, 5811, 5818, 5819, 5821, 3521, 5836, 7838, 7840, 7842, 7849, 7172, 7189, 6963, 6973, 8454, 8455, 8459, 8462, 8470, 8463, 3503, 8468, 8467, 8474, 6724, 6725, 3600, 6675, 3506, 3508, 3526, 6960, 6959, 6964, 6972, 6978, 6987, 6985, 7003, 7004, 7018, 7026, 7207, 7203, 7204, 7201, 7200, 7212, 7169, 7164, 5534, 4561, 4540, 4541, 4507, 4535, 4524, 4526, 4527, 4570, 4571, 4573, 4156, 4182, 4179, 3576, 4153, 8117, 3612, 8114, 8111, 12280, 4005, 4013, 4016, 4015, 4020, 4024, 4028, 4034, 3981, 3979, 3984, 3998, 4000, 4017, 4025, 7090, 7131, 7127, 7096, 7097, 7099, 7102, 7143, 7157, 7158, 5453, 5454, 5455, 6737, 6742, 6741, 8469, 3502, 6037, 6044, 6059, 6061, 6065, 6063, 6046, 6047, 6056, 6054, 6060, 6049, 7121, 7119, 7128, 5775, 5776, 5777, 5779, 5782, 5788, 5808, 5817, 5816, 5953, 5955, 5967, 5969, 7829, 7845, 7910, 7908, 7912, 4272, 4209, 4205, 5499, 3603, 5497, 5495, 7206, 7244, 7248, 6805, 7259, 6795, 6779, 7265, 5415, 7687, 7681, 7711, 3664, 3666, 6929, 75580, 3513, 7733, 3675, 3693, 3696, 3684, 3512, 3686, 3687, 4654, 4662, 4665, 4668, 7801, 7799, 7800, 7803, 7822, 5943, 5944, 5961, 6296, 3614, 6284, 3628, 6283, 5956, 5959, 5960, 5963, 4081, 4215, 4213, 4207, 4210, 4206, 3433, 3620, 7889, 7890, 7981, 3586, 7980, 7979, 6180, 6182, 6174, 6172, 6168, 6159, 6158, 6146, 6145, 6148, 6149, 6138, 6320, 6319, 6329, 3507, 6001, 6000, 3572, 4729, 13557, 4058, 4083, 4106, 3595, 6463, 6462, 6452, 6442, 6430, 6425, 7780, 3544, 3559, 3991, 4003, 4022, 4030, 95341, 8255, 8259, 8258, 7672, 7661, 7670, 3571, 3520, 6243, 845, 7950, 7505, 7526, 7536, 9969, 95339, 4497, 8495, 8315, 7563, 7574, 7569, 7568, 7566, 7567, 7565, 7564, 7561, 7557, 7550, 7549, 6642, 5645, 5648, 7553, 7577, 7578, 7581, 7579, 7570, 7571, 3617, 7603, 5087, 6200, 6195, 6191, 6183, 6179, 6175, 6171, 6167, 6163, 6157, 6152, 6147, 3606, 4581, 4508, 4501, 5416, 5421, 5422, 5423, 5424, 5461, 5462, 5452, 5451, 3670, 3630, 3631, 7434, 3685, 3585, 7435, 4240, 4243, 3944, 3937, 8417, 8418, 8422, 8426, 6819, 3505, 7144, 7175, 7177, 7179, 7180, 7186, 7176, 7149, 7486, 7471, 7495, 7496, 4172, 4165, 3570, 4786, 4787, 4791, 4792, 4795, 4903, 5120, 5131, 5137, 5141, 4825, 4829, 6257, 6252, 3604, 6369, 6405, 6365, 6371, 6386, 6387, 6389, 5207, 5209, 5271, 5269, 5384, 5277, 8374, 8389, 8387, 8405, 8404, 8399, 4734, 3531, 4717, 4721, 4723, 4745, 3943, 8277, 8294, 5517, 5932, 3532, 3565, 5730, 3935, 4050, 4051, 3965, 3961, 3959, 3945, 3948, 3950, 3953, 3955, 3977, 3974, 3988, 3992, 4048, 4031, 8324, 8339, 8340, 8342, 7850, 3568, 8016, 3569, 8080, 3563, 6683, 6682, 6494, 6489, 6491, 6490, 6486, 6487, 6519, 6419, 6423, 6427, 6428, 6436, 6441, 6450, 6448, 6461, 3587, 3918, 3914, 3905, 3906, 3908, 4007, 4006, 3883, 3886, 3900, 3902, 3898, 3888, 3879, 3880, 4001, 5148, 5173, 5175, 5171, 5169, 5157, 5928, 4956, 4953, 5132, 5134, 5164, 6077, 6121, 9611, 3527, 8158, 3583, 5190, 5162, 5199, 5203, 5212, 5215, 5201, 6880, 6879, 6884, 6871, 6866, 6775, 6777, 6778, 6781, 6782, 6827, 6817, 6815, 5866, 3552, 5901, 4378, 4379, 4381, 4496, 3871, 3895, 3946, 3942, 3941, 3940, 3939, 5012, 5006, 5086, 5080, 6842, 5809, 5801, 5800, 5799, 5798, 5790, 5783, 5784, 5785, 4506, 4504, 4494, 5359, 5362, 5370, 5371, 5374, 5366, 5028, 5060, 5066, 5093, 5095, 8159, 7743, 7744, 7746, 4194, 4196, 4197, 4198, 4183, 4188, 78605, 187, 5738, 5741, 5760, 5761, 6860, 4741, 4806, 4809, 4811, 4813, 4815, 4831, 4832, 4833, 4835, 4871, 4869, 4867, 4858, 4882, 4629, 4675, 3534, 4957, 4952, 4946, 4851, 4853, 4846, 4830, 4834, 4757, 7442, 3584, 7452, 7451, 7519, 7523, 7531, 7528, 7527, 7545, 7543, 3530, 3538, 3707, 3592, 6160, 8395, 8438, 3522, 8243, 7416, 3338, 6958, 6945, 6930, 7050, 7054, 7048, 7062, 7185, 4638, 4637, 5706, 7722, 7706, 7707, 7697, 3671, 3678, 3590, 4607, 4601, 3537, 4220, 4219, 3540, 4221, 4223, 3542, 3362, 338, 5611, 5607, 6735, 6739, 6746, 3578, 6750, 5044, 5130, 7281, 7282, 7271, 7269, 7266, 7261, 7329, 5610, 5605, 5609, 5608, 8257, 8261, 8267, 4129, 6690, 6695, 3504, 6694, 7243, 7252, 6990, 4363, 4588, 4442, 4438, 4441, 4437, 6314, 6309, 1761, 3655, 3651, 6925, 6927, 7052, 7055, 7061, 7460, 7465, 3615, 3543, 7659, 7657, 7662, 7653, 7652, 3577, 7642, 3599, 3878, 8279, 8280, 8303, 4167, 4160, 6523, 6432, 1380, 4245, 4252, 8432, 8453, 8456, 8457, 8458, 8460, 8477, 8480, 3818, 3816, 3875, 3872, 3870, 3867, 3801, 7583, 7584, 7588, 10395, 3613, 7619, 3548, 7614, 3557, 3536, 4231, 4232, 123]\n"
          ]
        }
      ]
    },
    {
      "cell_type": "markdown",
      "source": [
        "## Problem 3 & 4"
      ],
      "metadata": {
        "id": "5VdQ4K4FHxjo"
      },
      "id": "5VdQ4K4FHxjo"
    },
    {
      "cell_type": "code",
      "source": [
        "best_cost, best_tour = min_cost_node_tour(G1, 1000)\n",
        "print(\"Best cost:\", best_cost)\n",
        "print(\"Best tour:\", best_tour)"
      ],
      "metadata": {
        "colab": {
          "base_uri": "https://localhost:8080/",
          "height": 0
        },
        "id": "F8-JT8QeQAvd",
        "outputId": "df4a8654-387f-4e34-8d62-f865baf4c219"
      },
      "id": "F8-JT8QeQAvd",
      "execution_count": 74,
      "outputs": [
        {
          "output_type": "stream",
          "name": "stderr",
          "text": [
            "100%|██████████| 1000/1000 [03:41<00:00,  4.51it/s]\n"
          ]
        },
        {
          "output_type": "stream",
          "name": "stdout",
          "text": [
            "Best cost: 37721.42507020213\n",
            "Best tour: [123, 6147, 6152, 6157, 6163, 6167, 6171, 6175, 6179, 6183, 6191, 6195, 6200, 6218, 6220, 6192, 6186, 6184, 6190, 6196, 6194, 3722, 3745, 5157, 5169, 5171, 5175, 5173, 5148, 6248, 6242, 6238, 6234, 6235, 6233, 4776, 4718, 4727, 3627, 4753, 6741, 6742, 6737, 5455, 5454, 5453, 7158, 7157, 7143, 7100, 7106, 7108, 6819, 3505, 6817, 6827, 6782, 6781, 6778, 6777, 6775, 6774, 6866, 6871, 6884, 6879, 6880, 6905, 6890, 6251, 6244, 6345, 6355, 6352, 6359, 6406, 6350, 6160, 6165, 6169, 6178, 6189, 6193, 9829, 7541, 7548, 6953, 6968, 6980, 7019, 6907, 6904, 6901, 7229, 7348, 7240, 6897, 6841, 6824, 7604, 8864, 6100, 6102, 3718, 3528, 6810, 3524, 6825, 6834, 6823, 6821, 6836, 6839, 6844, 6845, 7225, 7226, 6898, 6900, 7228, 7227, 7221, 7214, 7205, 7196, 7193, 7191, 7045, 7042, 6933, 6948, 6943, 6939, 7681, 7687, 6283, 3628, 5109, 5125, 5126, 5120, 4903, 4795, 5086, 5080, 8033, 3558, 5131, 5137, 5141, 4825, 4829, 7790, 7789, 5942, 5940, 5928, 6130, 6134, 6136, 6137, 8122, 8121, 6608, 6604, 5646, 5552, 5550, 5549, 5547, 5574, 5601, 5606, 5603, 5597, 5702, 5594, 5590, 5576, 6960, 6959, 6964, 6972, 6978, 6987, 6985, 7003, 7004, 7018, 7026, 7207, 7203, 7202, 7216, 7217, 7218, 7013, 7015, 7010, 7007, 6997, 6989, 6984, 6983, 6981, 6975, 6971, 6966, 4929, 4926, 4951, 4949, 4945, 4943, 4941, 4939, 4979, 4999, 4998, 4995, 4994, 5321, 5324, 5342, 5341, 5332, 5306, 6527, 3573, 6432, 7433, 7413, 3631, 3630, 3670, 7287, 7297, 7302, 7303, 5915, 5916, 5918, 3515, 5877, 8454, 8455, 8457, 8458, 8460, 8477, 8480, 7921, 7922, 7925, 7927, 7930, 7929, 7914, 7912, 7281, 7282, 7271, 7269, 7266, 7261, 7329, 8164, 8163, 8157, 7769, 7771, 7758, 8508, 8506, 3533, 7755, 7754, 7751, 7752, 6575, 6249, 6241, 6236, 6232, 6228, 6225, 6226, 6221, 6213, 6207, 6202, 75578, 3564, 8000, 7997, 4450, 3561, 6305, 5993, 7863, 7865, 7860, 7858, 3997, 3999, 3995, 7102, 7099, 7097, 7096, 5099, 5934, 5935, 5997, 3878, 3880, 4001, 8748, 7444, 7457, 7453, 7458, 7510, 7508, 7513, 7514, 7496, 7495, 7471, 7486, 7519, 7523, 7531, 7528, 7527, 7545, 7543, 7239, 7238, 3539, 7301, 7286, 7284, 7283, 7279, 7280, 7276, 7275, 7274, 7272, 7270, 5274, 5273, 5269, 5384, 5277, 3509, 7550, 7549, 6642, 8206, 8209, 8211, 8174, 8212, 4659, 4657, 3517, 7736, 7738, 5716, 5715, 4681, 4680, 4687, 4688, 6360, 6413, 6346, 6348, 6343, 6347, 6376, 6377, 6378, 6403, 6415, 6369, 6405, 6365, 6371, 6386, 6387, 6389, 4272, 4274, 4281, 12280, 3618, 7647, 3602, 8225, 4956, 4953, 5132, 5134, 5164, 5190, 3583, 4766, 4730, 3619, 4728, 4775, 4786, 4787, 4791, 4792, 7204, 7201, 7200, 7212, 7169, 7164, 7976, 7977, 8049, 8051, 3518, 3595, 6463, 6462, 6452, 6442, 6430, 6425, 6625, 6587, 6583, 8426, 8422, 8418, 8417, 8416, 8409, 8348, 8349, 8350, 8351, 8366, 8352, 6923, 6951, 6955, 6132, 6140, 6794, 6796, 6802, 6800, 6804, 6806, 3738, 3736, 3762, 3849, 3862, 3847, 3846, 8314, 8315, 8344, 8343, 8336, 8338, 8331, 3678, 3671, 7711, 3664, 3666, 4258, 4259, 4261, 4262, 4260, 4268, 8165, 4137, 4136, 6550, 6549, 6502, 6501, 6498, 6496, 6688, 6687, 6691, 6696, 3879, 3888, 3898, 3902, 3900, 3886, 3883, 4006, 4005, 4007, 3908, 3906, 3905, 3914, 3918, 3921, 3927, 6277, 6276, 6275, 6271, 6270, 6264, 8523, 5683, 5480, 4651, 7577, 7578, 7581, 7579, 7570, 7571, 3617, 7603, 7605, 7606, 7607, 7608, 7610, 7609, 7566, 7567, 7565, 7564, 7561, 7557, 8839, 3818, 3816, 3875, 3872, 3870, 3867, 3801, 6115, 6122, 6120, 8345, 3338, 7416, 8243, 8218, 3620, 5159, 5140, 5208, 5210, 3592, 3707, 3538, 8503, 4565, 4579, 3541, 4182, 4156, 4573, 4571, 4570, 4527, 4526, 4524, 4535, 4507, 4541, 4540, 4561, 95339, 4497, 8495, 6973, 6963, 7189, 7172, 5848, 6929, 5862, 5873, 5875, 6842, 6849, 6847, 7836, 7835, 7857, 7861, 3570, 6296, 3614, 6284, 6309, 4590, 4434, 4445, 4447, 4448, 4453, 7849, 7842, 7840, 7838, 3622, 4667, 8167, 8168, 8169, 8210, 8177, 8178, 8181, 4334, 7982, 7985, 8020, 3545, 3569, 8080, 3563, 3562, 5815, 8208, 8120, 8117, 3612, 8114, 8111, 5744, 5743, 3433, 4147, 4141, 4134, 4132, 4131, 4130, 6689, 7748, 8270, 8269, 8268, 7127, 7131, 5725, 5724, 5721, 5720, 5719, 3559, 7764, 7760, 6666, 6665, 4558, 4653, 4643, 4644, 4645, 4647, 4648, 4640, 5693, 5648, 5482, 4167, 4165, 4179, 3576, 4153, 7733, 7672, 7661, 7670, 3919, 3920, 4026, 6860, 8056, 8054, 8079, 3566, 4013, 4016, 4003, 3993, 3951, 4745, 4723, 4721, 4717, 4729, 3572, 6000, 6007, 7144, 7175, 7177, 7179, 7180, 7186, 7176, 7149, 7465, 7460, 3986, 3996, 4002, 4014, 4027, 4035, 4039, 4037, 4021, 4040, 8327, 8328, 8333, 8321, 8322, 8323, 8318, 8304, 7796, 7794, 7795, 7806, 7808, 5736, 5722, 7384, 7317, 7382, 7375, 7359, 7080, 7134, 7136, 7137, 7139, 7183, 7058, 5836, 3521, 5821, 5819, 5818, 5811, 5813, 7488, 7492, 9969, 8408, 8419, 8398, 8399, 8400, 8394, 8396, 8421, 8420, 8423, 8489, 8433, 8434, 8436, 8437, 8439, 8450, 8449, 8447, 8491, 8445, 8443, 3600, 6675, 6674, 6673, 8271, 8266, 8265, 8264, 6560, 6558, 8255, 8259, 8258, 8257, 8261, 8267, 4129, 6690, 6695, 3504, 6694, 6697, 6698, 4646, 4649, 3549, 4209, 4205, 5499, 3603, 5497, 5495, 6533, 6539, 6554, 3529, 5516, 4172, 4363, 4581, 4508, 4501, 5628, 5625, 5624, 5619, 3511, 3530, 4126, 3588, 12673, 4378, 4379, 4381, 4496, 4494, 8430, 8429, 8428, 8424, 8427, 8412, 8413, 8415, 8308, 8312, 8310, 4030, 4022, 4015, 4020, 4024, 4028, 4034, 3981, 3979, 3984, 3998, 4000, 4017, 4025, 10395, 3587, 5207, 5209, 5271, 3606, 5866, 5162, 5199, 5203, 5212, 5215, 5201, 3939, 3940, 3941, 3942, 3946, 3945, 3948, 3950, 3953, 3955, 3977, 3974, 3988, 3992, 4048, 4031, 8324, 8339, 8340, 8342, 5105, 6899, 7087, 7077, 7072, 7075, 6909, 6910, 6913, 6914, 6864, 8773, 8306, 8288, 8411, 8410, 5087, 5101, 5103, 5083, 5079, 5077, 5075, 5050, 5042, 5040, 5039, 5037, 4968, 4976, 5005, 5009, 5013, 5354, 5353, 7582, 7553, 3546, 5759, 5749, 5750, 5773, 5771, 5746, 6049, 6060, 6054, 6056, 6047, 6046, 6063, 6067, 6065, 6061, 6059, 6044, 6037, 3597, 3544, 7780, 6613, 6658, 6591, 3593, 6621, 6650, 6652, 7585, 7588, 7584, 7583, 6057, 6055, 6041, 3519, 5186, 5184, 5180, 5470, 4908, 4910, 4902, 4896, 4974, 4888, 4884, 4988, 5316, 5149, 5154, 8016, 8043, 6645, 7801, 7799, 7800, 7803, 7822, 5943, 5944, 5961, 5963, 5960, 5959, 5956, 3516, 4249, 4247, 4250, 4254, 4316, 4335, 4344, 6637, 6631, 6630, 6628, 6627, 6586, 6585, 6584, 6598, 3547, 4296, 4346, 4298, 6721, 6722, 6638, 6723, 8473, 3555, 8464, 8468, 8467, 8474, 6724, 6725, 8303, 8282, 8281, 8289, 8291, 3362, 3542, 4223, 4221, 3540, 4219, 4220, 3537, 4601, 4607, 3590, 7611, 7613, 6595, 6615, 6616, 8133, 8132, 8131, 8130, 8129, 4282, 7901, 7899, 95340, 7525, 3514, 7536, 7487, 7477, 7475, 7474, 7469, 7468, 3571, 7434, 3685, 3585, 7435, 4240, 4243, 4245, 4252, 6188, 6770, 6772, 6787, 6786, 6785, 6784, 7515, 7534, 7542, 77640, 6958, 6945, 6930, 7050, 7054, 7048, 7062, 7185, 8767, 8278, 8275, 8295, 3958, 3954, 3944, 3937, 1380, 7505, 7526, 77626, 4741, 4806, 4809, 4811, 4813, 4815, 4831, 4832, 4833, 4835, 4871, 4869, 4867, 4858, 4882, 3531, 4734, 8279, 8280, 8287, 8286, 8285, 8284, 8750, 4897, 4895, 4894, 4793, 4782, 4781, 6410, 6363, 6011, 6003, 6001, 6727, 6729, 6726, 6720, 4293, 3510, 4357, 4340, 5901, 3552, 5860, 5846, 5847, 5857, 7612, 9563, 7470, 6257, 6252, 3842, 3851, 3858, 3861, 3827, 3828, 3651, 3655, 8217, 8216, 8221, 6016, 6036, 6034, 6064, 6068, 6076, 6082, 6086, 6090, 6096, 6103, 6109, 6091, 6077, 8513, 8438, 8395, 8392, 8393, 8404, 8405, 8387, 8389, 8374, 3599, 7642, 3577, 7652, 7653, 7662, 7657, 7659, 3543, 7646, 7645, 4018, 7206, 7244, 7248, 6805, 7259, 6795, 6779, 7265, 5415, 5420, 5421, 5422, 5423, 5424, 5461, 5462, 5452, 5451, 7090, 6540, 6543, 6544, 6467, 6468, 6466, 6465, 6457, 6438, 6514, 6512, 6511, 3550, 6510, 6500, 6499, 6495, 5684, 5673, 5677, 5579, 5521, 5520, 5518, 5517, 7908, 7910, 7845, 7829, 8294, 8277, 3943, 3534, 4559, 4560, 4542, 3991, 8159, 3527, 7743, 7744, 7746, 4194, 4196, 4197, 4198, 4183, 4188, 78605, 6138, 6149, 6148, 6145, 6146, 6158, 6159, 6168, 6172, 6174, 6182, 6180, 8305, 4629, 4675, 3778, 3729, 3753, 3857, 3854, 3890, 3899, 3901, 3897, 3926, 3931, 3909, 3933, 3917, 9611, 6121, 6093, 6081, 6101, 3523, 7950, 3535, 7945, 7944, 5645, 5534, 8158, 8162, 8135, 8136, 4104, 4088, 4074, 8134, 9654, 6461, 6448, 6450, 6441, 6436, 6428, 6427, 6423, 6419, 3625, 7635, 3616, 7633, 7627, 3609, 5359, 5362, 5370, 5371, 5374, 5366, 5028, 5060, 5066, 5093, 5095, 8391, 8493, 8386, 8382, 8381, 8380, 7061, 7055, 7052, 6927, 6925, 6921, 6919, 6918, 6915, 3579, 4312, 4283, 4288, 4289, 4315, 6717, 6733, 6734, 6732, 8488, 338, 6339, 3574, 6017, 6018, 6021, 6022, 6024, 6532, 6531, 6537, 6536, 6526, 6525, 4356, 4350, 4320, 4306, 4304, 8190, 3525, 7763, 4638, 4637, 5706, 7722, 7706, 7707, 7697, 3675, 3693, 3696, 3684, 3512, 3610, 7638, 5475, 3604, 6735, 6739, 6746, 3578, 6750, 3598, 6128, 9599, 6815, 6523, 6519, 6487, 6486, 6490, 6491, 6489, 6494, 6682, 6683, 3556, 3526, 3508, 3506, 6679, 6676, 6409, 6411, 3551, 6412, 6399, 6400, 6401, 4673, 6701, 6699, 6705, 7739, 95341, 5849, 5851, 5012, 4977, 4973, 4971, 4965, 4959, 4955, 3522, 3686, 3687, 4654, 4662, 4665, 4668, 4642, 4556, 4557, 4555, 4553, 4461, 4460, 6304, 3507, 6329, 6319, 6320, 5611, 5607, 5610, 4206, 4210, 4207, 4213, 4215, 4081, 5809, 5801, 5800, 5799, 5798, 5790, 5783, 5784, 5785, 6559, 3581, 3770, 3769, 3763, 3929, 3934, 3932, 3930, 3923, 3963, 3960, 3871, 3895, 3959, 3961, 3965, 4051, 4050, 3935, 5730, 3565, 3532, 5932, 7979, 7980, 3586, 7981, 7890, 7889, 7905, 3513, 75580, 7121, 7119, 7128, 5775, 5776, 5777, 5779, 5782, 5788, 5808, 7563, 7574, 7569, 7568, 8402, 8403, 8406, 8370, 8371, 8372, 8359, 8358, 8361, 4160, 78886, 3615, 4957, 4952, 4946, 4851, 4853, 4846, 4830, 4834, 4757, 7442, 3584, 7452, 7451, 7332, 7313, 7293, 7304, 7290, 3784, 3797, 3794, 3800, 3806, 3830, 3907, 3910, 239, 3567, 5044, 5130, 6990, 7252, 7243, 3568, 7850, 3594, 4705, 4714, 3503, 5006, 4267, 4071, 4072, 4075, 4076, 4078, 4060, 4083, 4106, 4468, 3922, 3924, 3903, 3838, 5968, 5971, 8432, 8453, 8456, 8459, 8462, 8470, 8463, 3502, 8469, 5605, 5609, 5608, 4506, 4504, 6243, 3520, 3582, 3728, 3727, 3726, 6245, 6198, 6201, 6222, 6254, 6206, 6209, 6211, 6215, 6217, 6229, 6214, 187, 5738, 5741, 5760, 5761, 5817, 5816, 5953, 5955, 5967, 5969, 4588, 4442, 4438, 4441, 4437, 6314, 4464, 5439, 5435, 5433, 1761, 3654, 4865, 13557, 4058, 95342, 845, 5416, 3613, 7619, 3548, 7614, 3557, 3536, 4231, 4232, 123]\n"
          ]
        }
      ]
    }
  ],
  "metadata": {
    "colab": {
      "provenance": [],
      "collapsed_sections": [
        "DWXVLPA6z4hL"
      ]
    },
    "kernelspec": {
      "display_name": "Python 3 (ipykernel)",
      "language": "python",
      "name": "python3"
    },
    "language_info": {
      "codemirror_mode": {
        "name": "ipython",
        "version": 3
      },
      "file_extension": ".py",
      "mimetype": "text/x-python",
      "name": "python",
      "nbconvert_exporter": "python",
      "pygments_lexer": "ipython3",
      "version": "3.11.4"
    }
  },
  "nbformat": 4,
  "nbformat_minor": 5
}